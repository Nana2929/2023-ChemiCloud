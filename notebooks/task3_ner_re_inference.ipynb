{
 "cells": [
  {
   "attachments": {},
   "cell_type": "markdown",
   "metadata": {},
   "source": [
    "## 2023 ChemiCloud Task 3 \n",
    "關鍵字元組的抽取\n",
    "是否能夠看成兩個子任務 NER + RE (Relation Extraction) \n",
    "，以現有checkpoints來完成？\n",
    "- [ckip tagger ner paper](https://arxiv.org/pdf/1908.11046.pdf) (Att BiLSTM CNN 的數據)\n",
    "- [Ckip 使用 OntoNotes Entity type list](https://catalog.ldc.upenn.edu/docs/LDC2013T19/OntoNotes-Release-5.0.pdf)\n",
    "\n",
    "Entity | Description\n",
    "|---|---|\n",
    "PERSON|People, including fictional\n",
    "NORP | Nationalities or religious or political groups\n",
    "FACILITY| Buildings, airports, highways, bridges, etc.\n",
    "ORGANIZATION | Companies, agencies, institutions, etc.\n",
    "GPE | Countries, cities, states\n",
    "LOCATION | Non-GPE locations, mountain ranges, bodies of water\n",
    "PRODUCT | Vehicles, weapons, foods, etc. (Not services)\n",
    "EVENT | Named hurricanes, battles, wars, sports events, etc.\n",
    "WORK OF ART| Titles of books, songs, etc.\n",
    "LAW | Named documents made into laws \n",
    "LANGUAGE| Any named language\n",
    "DATE | Absolute or relative dates or periods\n",
    "TIME | Times smaller than a day\n",
    "PERCENT| Percentage (including “%”)\n",
    "MONEY | Monetary values, including unit\n",
    "QUANTITY| Measurements, as of weight or distance\n",
    "ORDINAL| “first”, “second”\n",
    "CARDINAL| Numerals that do not fall under another type\n",
    "\n",
    "- ckip tagger \n",
    "- link: https://github.com/ckiplab/ckiptagger \n",
    "\n",
    "|F1 score| OntoNotes 5.0 |WNUT \n",
    "|---|---|---|\n",
    "|ckip tagger NER |88.4%+-0.18|42.26%+-0.82\n",
    "\n",
    "- ckip transformers \n",
    "- link: https://github.com/ckiplab/ckip-transformers \n",
    "\n",
    "|F1 score| OntoNotes 5.0 |\n",
    "|---|---|\n",
    "|ckip transformers NER | 81.17% # bert-base-chinese \n"
   ]
  },
  {
   "cell_type": "code",
   "execution_count": 2,
   "metadata": {},
   "outputs": [],
   "source": [
    "import os \n",
    "import pandas as pd \n",
    "root = '/home/nanaeilish/projects/2023-chemicloud/'\n",
    "data_dir = os.path.join(root, 'data')\n",
    "filename = '食品安全_ws.csvpkl'\n",
    "df = pd.read_pickle(os.path.join(data_dir, filename))\n"
   ]
  },
  {
   "cell_type": "code",
   "execution_count": 4,
   "metadata": {},
   "outputs": [
    {
     "name": "stderr",
     "output_type": "stream",
     "text": [
      "Tokenization: 100%|██████████| 133/133 [00:00<00:00, 943.43it/s]\n",
      "Inference: 100%|██████████| 2/2 [01:15<00:00, 37.76s/it]\n",
      "Tokenization: 100%|██████████| 133/133 [00:00<00:00, 64408.55it/s]\n",
      "Inference: 100%|██████████| 1/1 [00:02<00:00,  2.16s/it]\n"
     ]
    }
   ],
   "source": [
    "from ckip_transformers.nlp import CkipPosTagger, CkipNerChunker \n",
    "titlecol = '新聞標題'\n",
    "textcol = '新聞內容' \n",
    "titles = df[titlecol].tolist() \n",
    "ner_driver = CkipNerChunker(model=\"bert-base\") \n",
    "\n",
    "texts = df[textcol].tolist()\n",
    "titles = df[titlecol].tolist() \n",
    "\n",
    "df['ner_text'] = ner_driver(texts) \n",
    "df['ner_title'] = ner_driver(titles)"
   ]
  },
  {
   "cell_type": "markdown",
   "metadata": {},
   "source": []
  },
  {
   "cell_type": "code",
   "execution_count": 40,
   "metadata": {},
   "outputs": [],
   "source": [
    "\n",
    "import termcolor \n",
    "from termcolor import colored \n",
    "\n",
    "\n",
    "colormap = {\n",
    "    'PERSON': 'red',\n",
    "    'FOOD': 'blue',\n",
    "    'PRODUCT': 'blue',\n",
    "    'CHEMICAL': 'magenta',      \n",
    "    'ORG': 'green',\n",
    "    'DATE': 'yellow',\n",
    "}\n",
    "\n",
    "\n",
    "def color_ner_text(text, nertokens):\n",
    "    for nertoken in reversed(nertokens):\n",
    "        b, e = nertoken.idx \n",
    "        color = colormap.get(nertoken.ner, 'cyan')\n",
    "        typed_text = text[b:e] + f'_{nertoken.ner}' + ' '\n",
    "        span = colored(typed_text, color) \n",
    "        text = text[:b] + span + text[e:]\n",
    "\n",
    "    print(text)\n"
   ]
  },
  {
   "cell_type": "code",
   "execution_count": 56,
   "metadata": {},
   "outputs": [
    {
     "data": {
      "text/plain": [
       "'快訊 哈根達斯 香草冰淇淋 再驗出禁用農藥 香港喊停售'"
      ]
     },
     "execution_count": 56,
     "metadata": {},
     "output_type": "execute_result"
    }
   ],
   "source": [
    "news_id = 13 \n",
    "df.iloc[news_id][titlecol]"
   ]
  },
  {
   "cell_type": "code",
   "execution_count": 57,
   "metadata": {},
   "outputs": [
    {
     "name": "stdout",
     "output_type": "stream",
     "text": [
      "▲\u001b[31m哈根達斯_PERSON \u001b[0m香草冰淇淋再被驗出致癌物環氧乙烷。（圖／食藥署提供）\n",
      "記者\u001b[31m鄒鎮宇_PERSON \u001b[0m／綜合報導\n",
      "\u001b[36m美國_GPE \u001b[0m知名冰淇淋品牌「Häagen-Dazs（哈根達斯）」日前進口\u001b[36m台灣_GPE \u001b[0m的「香草冰淇淋」驗出禁用農藥，被邊境攔下依規定銷毀。沒想到，\u001b[32m香港食物環境衞生署_ORG \u001b[0m食物安全中心\u001b[33m10日_DATE \u001b[0m發出公告，\u001b[31m哈根達斯_PERSON \u001b[0m的香草冰淇淋被驗出\u001b[32m歐盟_ORG \u001b[0m禁用的農藥環氧乙烷，因此要求業界停止使用或出售。\n",
      "據《東網》報導，\u001b[32m香港食物環境衞生署_ORG \u001b[0m食物安全中心發現，哈根達斯\u001b[36m75毫升_QUANTITY \u001b[0m、\u001b[36m100毫升_QUANTITY \u001b[0m、\u001b[36m473毫升_QUANTITY \u001b[0m、\u001b[36m9.46公升_QUANTITY \u001b[0m裝的香草冰淇淋被驗出農藥環氧乙烷，因此立刻跟進口商溝通，並通知業界停止使用或出售，後續將進行調查。\n",
      "\u001b[31m哈根達斯_PERSON \u001b[0m\u001b[33m6月21日_DATE \u001b[0m時也在\u001b[36m香港_GPE \u001b[0m被驗出有環氧乙烷，當時\u001b[36m香港_GPE \u001b[0m\u001b[31m哈根達斯_PERSON \u001b[0m致歉，並停售、撤回商品，豈料\u001b[33m本月10日_DATE \u001b[0m又再被驗出含有環氧乙烷。\n",
      "據悉，\u001b[31m哈根達斯_PERSON \u001b[0m\u001b[33m6月21日_DATE \u001b[0m時進口\u001b[36m台灣_GPE \u001b[0m的香草冰淇淋也驗出環氧乙烷，在邊境被攔下1164盒、\u001b[36m5471.34公斤_QUANTITY \u001b[0m的產品，因不符合食品安全衛生管理法\u001b[36m第15_ORDINAL \u001b[0m條有關「農藥殘留容許量標準」規定，須依規定退運或銷毀。\n",
      "\u001b[32m食藥署_ORG \u001b[0m北區管理中心簡任技正\u001b[31m吳宗熹_PERSON \u001b[0m過去受訪時指出，環氧乙烷為農藥一種，具致癌風險，依目前規定不在食品中檢出，國內也沒有核准作為農藥使用，因此進口產品也不得檢出。\n",
      "►按這訂閱Podcast《\u001b[36m小編沒收工_WORK_OF_ART \u001b[0m》每天熱門話題聊不完\n"
     ]
    }
   ],
   "source": [
    "\n",
    "\n",
    "\n",
    "text = df.iloc[news_id][textcol] \n",
    "nertokens = df.iloc[news_id]['ner_text'][0] \n",
    "color_ner_text(text = text, nertokens = nertokens)"
   ]
  },
  {
   "attachments": {},
   "cell_type": "markdown",
   "metadata": {},
   "source": [
    "### NER \n",
    "- Spacy NER \n",
    "- ckip-transformers NER \n",
    "- ckip tagger NER (not as good as transformers)\n",
    "#### References \n",
    "https://www.jsjkx.com/EN/10.11896/jsjkx.200800181 -> food safety news \n",
    "#### Issue: chemical substance: 環氧乙烷 抓不出來 (Chemical NER) \n",
    "-> 求助易庭的 dictionary tree  \n",
    "-> 卓騰 Articut Chemical NER (Python API available): https://blog.droidtown.co/post/643573663484067840/chemical \n",
    "\n",
    "\n",
    "#### Issue: 香草冰淇淋抓不出來（food NER)  \n",
    "-> 卓騰 Articut Food NER: https://api.droidtown.co/ArticutAPI/document/#ArticutAPI\n",
    " \n",
    "- foodBERT\n",
    "  https://github.com/chambliss/foodbert -> English only  \n",
    "- Chinese ner dataset: https://zhuanlan.zhihu.com/p/529541521\n",
    "    - ner food related dataset: 萬創杯中醫相關命名實體辨識資料集\n",
    "      https://aiqianji.com/openoker/Chinese-DeepNER-Pytorch \n",
    "    - 其中有食物的 entity annotation，但是感覺比較偏向原型食物：\n",
    "```\n",
    "食物(FOOD):指能够满足机体正常生理和生化能量需求，并能延续正常寿命的物质。对人体而言，能够满足人的正常生活活动需求并利于寿命延长的物质称之为食物。例子：苹果、茶、木耳、萝卜\n",
    "食物分组(FOOD_GROUP): 中医中饮食养生中，将食物分为寒热温凉四性，同时中医药禁忌中对于具有某类共同属性食物的统称，记为食物分组。例子：油腻食物、辛辣食物、凉性食物\n",
    "```\n",
    "- English food dataset: \n",
    "- TASTEset (Recipe Dataset and Food Entities Recoginition Benchmark): https://github.com/taisti/tasteset \n",
    "```\n",
    "ingredients,ingredients_entities\n",
    "\"5 ounces rum\n",
    "4 ounces triple sec\n",
    "3 ounces Tia Maria\n",
    "20 ounces orange juice\n",
    "\",\"[{\"\"start\"\": 0, \"\"end\"\": 1, \"\"type\"\": \"\"QUANTITY\"\", \"\"entity\"\": \"\"5\"\"},{\"\"start\"\": 2, \"\"end\"\": 8, \"\"type\"\": \"\"UNIT\"\", \"\"entity\"\": \"\"ounces\"\"},{\"\"start\"\": 9, \"\"end\"\": 12, \"\"type\"\": \"\"FOOD\"\", \"\"entity\"\": \"\"rum\"\"},{\"\"start\"\": 13, \"\"end\"\": 14, \"\"type\"\": \"\"QUANTITY\"\", \"\"entity\"\": \"\"4\"\"},{\"\"start\"\": 15, \"\"end\"\": 21, \"\"type\"\": \"\"UNIT\"\", \"\"entity\"\": \"\"ounces\"\"},{\"\"start\"\": 22, \"\"end\"\": 32, \"\"type\"\": \"\"FOOD\"\", \"\"entity\"\": \"\"triple sec\"\"},{\"\"start\"\": 33, \"\"end\"\": 34, \"\"type\"\": \"\"QUANTITY\"\", \"\"entity\"\": \"\"3\"\"},{\"\"start\"\": 35, \"\"end\"\": 41, \"\"type\"\": \"\"UNIT\"\", \"\"entity\"\": \"\"ounces\"\"},{\"\"start\"\": 42, \"\"end\"\": 51, \"\"type\"\": \"\"FOOD\"\", \"\"entity\"\": \"\"Tia Maria\"\"},{\"\"start\"\": 52, \"\"end\"\": 54, \"\"type\"\": \"\"QUANTITY\"\", \"\"entity\"\": \"\"20\"\"},{\"\"start\"\": 55, \"\"end\"\": 61, \"\"type\"\": \"\"UNIT\"\", \"\"entity\"\": \"\"ounces\"\"},{\"\"start\"\": 62, \"\"end\"\": 74, \"\"type\"\": \"\"FOOD\"\", \"\"entity\"\": \"\"orange juice\"\"}]\"\n",
    "``` \n",
    "- FoodBase corpus \n",
    "https://academic.oup.com/database/article/doi/10.1093/database/baz121/5611291?login=true\n"
   ]
  },
  {
   "cell_type": "code",
   "execution_count": 88,
   "metadata": {},
   "outputs": [
    {
     "name": "stdout",
     "output_type": "stream",
     "text": [
      "[[[118, 178, '草冰淇淋']], [], [], [], [], [], [], [], [], [], [], [], [[46, 76, '冰淇淋']], [], [], [], [], [], [], [], [], [[0, 57, '香草冰淇淋']], [], [], [], [], [], [], [], [[80, 117, '中心']], [], [[76, 137, '香草冰淇淋']], [], [], [], [], [], [], [], [], [], [], [[80, 117, '中心']], [], [], [], [], [], [], [], [[101, 162, '香草冰淇淋']], [], [], [], [], [], [], [], [], [], [], [], [], [], [], [], [], [], [], [], [], [], [[205, 266, '香草冰淇淋']], [], [], [], [], [], [], [], [], [], [], [], [], [], [], [[51, 84, '管理中心']], [], [], [], [], [], [], [], [], [], [], [], [], [], [], [], [], []]\n",
      "[[(319, 323, '環氧乙烷')], [], [], [], [], [], [], [], [], [], [], [], [], [], [], [], [], [], [], [], [], [], [], [], [], [], [], [], [], [], [], [(341, 345, '環氧乙烷')], [], [], [], [], [], [], [], [], [], [], [], [], [], [], [], [], [], [], [(280, 284, '環氧乙烷')], [], [], [], [], [], [], [], [], [(313, 317, '環氧乙烷')], [], [], [], [], [], [], [], [(275, 279, '環氧乙烷')], [], [], [], [], [(337, 341, '環氧乙烷')], [], [], [], [], [], [], [], [], [], [], [], [], [], [], [], [], [(20, 24, '環氧乙烷')], [], [], [], [], [], [], [], [], [], [], [], [], [], [], []]\n"
     ]
    }
   ],
   "source": [
    "from ArticutAPI import Articut\n",
    "\n",
    "articut = Articut() \n",
    "# default: public quota mode \n",
    "# 每小時更新 2000 字\n",
    "\n",
    "inputSTR = df.iloc[news_id][textcol]\n",
    "\n",
    "result = articut.parse(inputSTR)\n",
    "food_ner_tokens = articut.NER.getFood(result)\n",
    "chemi_ner_tokens = articut.getChemicalLIST(result)\n",
    "print(food_ner_tokens) # wrong indexing \n",
    "print(chemi_ner_tokens)"
   ]
  },
  {
   "cell_type": "code",
   "execution_count": 72,
   "metadata": {},
   "outputs": [],
   "source": [
    "from easydict import EasyDict as edict \n",
    "\n",
    "def format_ner_tokens(ner_tokens, type = 'FOOD'):\n",
    "    raw = [edict({'idx': (t[0][1] - len(t[0][2]), t[0][1]), \n",
    "                   'text': t[0][2],\n",
    "                   'ner': type}) for t in ner_tokens if len(t) > 0]\n",
    "    return raw\n",
    "    \n",
    "format_food_tokens = format_ner_tokens(food_ner_tokens, type = 'FOOD')\n",
    "format_chemi_tokens = format_ner_tokens(chemi_ner_tokens, type = 'CHEMICAL')\n"
   ]
  },
  {
   "cell_type": "code",
   "execution_count": 78,
   "metadata": {},
   "outputs": [
    {
     "data": {
      "text/plain": [
       "[{'idx': [174, 178], 'text': '草冰淇淋', 'ner': 'FOOD'},\n",
       " {'idx': [73, 76], 'text': '冰淇淋', 'ner': 'FOOD'},\n",
       " {'idx': [52, 57], 'text': '香草冰淇淋', 'ner': 'FOOD'},\n",
       " {'idx': [115, 117], 'text': '中心', 'ner': 'FOOD'},\n",
       " {'idx': [132, 137], 'text': '香草冰淇淋', 'ner': 'FOOD'},\n",
       " {'idx': [115, 117], 'text': '中心', 'ner': 'FOOD'},\n",
       " {'idx': [157, 162], 'text': '香草冰淇淋', 'ner': 'FOOD'},\n",
       " {'idx': [261, 266], 'text': '香草冰淇淋', 'ner': 'FOOD'},\n",
       " {'idx': [80, 84], 'text': '管理中心', 'ner': 'FOOD'}]"
      ]
     },
     "execution_count": 78,
     "metadata": {},
     "output_type": "execute_result"
    }
   ],
   "source": [
    "format_food_tokens"
   ]
  },
  {
   "cell_type": "code",
   "execution_count": 87,
   "metadata": {},
   "outputs": [
    {
     "name": "stdout",
     "output_type": "stream",
     "text": [
      "▲哈根達斯香草冰淇淋再被驗出致癌物環氧乙\u001b[35m烷。（圖_CHEMICAL \u001b[0m／食藥署提供）\n",
      "記者鄒鎮宇／綜合報導\n",
      "美國知名冰淇淋品牌「Häagen-Dazs（哈根達斯）」日前進口台灣的「香草冰淇淋」驗出禁用農藥，被邊境攔下依規定銷毀。沒想到，香港食物環境衞生署食物安全中心10日發出公告，哈根達斯的香草冰淇淋被驗出歐盟禁用的農藥環氧乙烷，因此要求業界停止使用或出售。\n",
      "據《東網》報導，香港食物環境衞生署食物安全中心發現，哈根達斯75毫升、100毫升、473毫升、9.46公升裝的香草冰淇淋被驗出農藥環氧乙烷，因此立刻跟進口商溝通，並通知業界停止使用或出售，後續將進行調查。\n",
      "哈根\u001b[35m達斯6月_CHEMICAL \u001b[0m2\u001b[35m1日時也_CHEMICAL \u001b[0m在香港被驗出有環氧乙烷，當時香港哈根達斯致歉，並停售、撤回\u001b[35m商品，豈_CHEMICAL \u001b[0m料本\u001b[35m月10日_CHEMICAL \u001b[0m又再被驗出含有環氧乙烷。\n",
      "據\u001b[35m悉，哈根_CHEMICAL \u001b[0m\u001b[35m達斯6月_CHEMICAL \u001b[0m21日時進口台灣的香草冰淇淋也驗出環氧乙烷，在邊境被攔下1164盒、5471.34公斤的產品，因不符合食品安全衛生管理法第15條有關「農藥殘留容許量標準」規定，須依規定退運或銷毀。\n",
      "食藥署北區管理中心簡任技正吳宗熹過去受訪時指出，環氧乙烷為農藥一種，具致癌風險，依目前規定不在食品中檢出，國內也沒有核准作為農藥使用，因此進口產品也不得檢出。\n",
      "►按這訂閱Podcast《小編沒收工》每天熱門話題聊不完\n"
     ]
    }
   ],
   "source": [
    "# add the extra tokens into ckip ner tokens \n",
    "# df.iloc[13]['ner_text'][0] + \n",
    "# ner_tokens = format_food_tokens + format_chemi_tokens \n",
    "ner_tokens = sorted(format_chemi_tokens, key = lambda x: x.idx[0]) # need to sort to ensure coloring results\n",
    "color_ner_text(text = text, nertokens = ner_tokens)"
   ]
  },
  {
   "cell_type": "code",
   "execution_count": 80,
   "metadata": {},
   "outputs": [
    {
     "data": {
      "text/plain": [
       "[{'idx': [20, 24], 'text': '環氧乙烷', 'ner': 'CHEMICAL'},\n",
       " {'idx': [52, 57], 'text': '香草冰淇淋', 'ner': 'FOOD'},\n",
       " {'idx': [73, 76], 'text': '冰淇淋', 'ner': 'FOOD'},\n",
       " {'idx': [80, 84], 'text': '管理中心', 'ner': 'FOOD'},\n",
       " {'idx': [115, 117], 'text': '中心', 'ner': 'FOOD'},\n",
       " {'idx': [115, 117], 'text': '中心', 'ner': 'FOOD'},\n",
       " {'idx': [132, 137], 'text': '香草冰淇淋', 'ner': 'FOOD'},\n",
       " {'idx': [157, 162], 'text': '香草冰淇淋', 'ner': 'FOOD'},\n",
       " {'idx': [174, 178], 'text': '草冰淇淋', 'ner': 'FOOD'},\n",
       " {'idx': [261, 266], 'text': '香草冰淇淋', 'ner': 'FOOD'},\n",
       " {'idx': [275, 279], 'text': '環氧乙烷', 'ner': 'CHEMICAL'},\n",
       " {'idx': [280, 284], 'text': '環氧乙烷', 'ner': 'CHEMICAL'},\n",
       " {'idx': [313, 317], 'text': '環氧乙烷', 'ner': 'CHEMICAL'},\n",
       " {'idx': [319, 323], 'text': '環氧乙烷', 'ner': 'CHEMICAL'},\n",
       " {'idx': [337, 341], 'text': '環氧乙烷', 'ner': 'CHEMICAL'},\n",
       " {'idx': [341, 345], 'text': '環氧乙烷', 'ner': 'CHEMICAL'}]"
      ]
     },
     "execution_count": 80,
     "metadata": {},
     "output_type": "execute_result"
    }
   ],
   "source": [
    "ner_tokens"
   ]
  },
  {
   "cell_type": "code",
   "execution_count": null,
   "metadata": {},
   "outputs": [],
   "source": [
    "## fix indexing issue by regex match  "
   ]
  }
 ],
 "metadata": {
  "kernelspec": {
   "display_name": "Python 3",
   "language": "python",
   "name": "python3"
  },
  "language_info": {
   "codemirror_mode": {
    "name": "ipython",
    "version": 3
   },
   "file_extension": ".py",
   "mimetype": "text/x-python",
   "name": "python",
   "nbconvert_exporter": "python",
   "pygments_lexer": "ipython3",
   "version": "3.9.15"
  },
  "orig_nbformat": 4,
  "vscode": {
   "interpreter": {
    "hash": "d36a7b1d5b86f765154479f5ba9c0cd4edaa9a5fcd483bcf496f71249c97c50f"
   }
  }
 },
 "nbformat": 4,
 "nbformat_minor": 2
}
